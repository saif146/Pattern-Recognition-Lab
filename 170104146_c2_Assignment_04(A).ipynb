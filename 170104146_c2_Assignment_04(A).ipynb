{
  "nbformat": 4,
  "nbformat_minor": 0,
  "metadata": {
    "colab": {
      "name": "170104146_c2_Assignment_04(A).ipynb",
      "provenance": [],
      "collapsed_sections": []
    },
    "kernelspec": {
      "name": "python3",
      "display_name": "Python 3"
    },
    "language_info": {
      "name": "python"
    }
  },
  "cells": [
    {
      "cell_type": "markdown",
      "metadata": {
        "id": "QMCqwZ-q-U6m"
      },
      "source": [
        "Name: saiful islam  Id:170104146"
      ]
    },
    {
      "cell_type": "markdown",
      "metadata": {
        "id": "_27-4pUB-cZT"
      },
      "source": [
        "***Import Drive ***"
      ]
    },
    {
      "cell_type": "code",
      "metadata": {
        "colab": {
          "base_uri": "https://localhost:8080/"
        },
        "id": "30KQVHWY93Dl",
        "outputId": "f8aaaff7-8475-44ea-e5b1-cbe9e493041b"
      },
      "source": [
        "from google.colab import drive\n",
        "drive.mount('/content/drive')"
      ],
      "execution_count": 1,
      "outputs": [
        {
          "output_type": "stream",
          "name": "stdout",
          "text": [
            "Mounted at /content/drive\n"
          ]
        }
      ]
    },
    {
      "cell_type": "markdown",
      "metadata": {
        "id": "Orf_2_HV-foU"
      },
      "source": [
        "***import library***"
      ]
    },
    {
      "cell_type": "code",
      "metadata": {
        "id": "wgPU5qUsoQpH"
      },
      "source": [
        "import numpy as np\n",
        "import pandas as pd\n",
        "import matplotlib.pyplot as plt\n",
        "import math"
      ],
      "execution_count": 2,
      "outputs": []
    },
    {
      "cell_type": "markdown",
      "metadata": {
        "id": "7w5358FP-3Ps"
      },
      "source": [
        "***Read the Train_knn  file***"
      ]
    },
    {
      "cell_type": "code",
      "metadata": {
        "id": "PWUx-gJNofOT"
      },
      "source": [
        "training_data = pd.read_csv('/content/drive/MyDrive/pattern lab/train_knn.txt', sep=\",\",header=None)\n",
        "training_data=training_data.to_numpy()\n"
      ],
      "execution_count": 13,
      "outputs": []
    },
    {
      "cell_type": "markdown",
      "metadata": {
        "id": "NtP9r-u__Cnv"
      },
      "source": [
        "***If the class value is 1 then store it in class 1 else class 2***"
      ]
    },
    {
      "cell_type": "code",
      "metadata": {
        "id": "HWZH_qeK_Av8"
      },
      "source": [
        "class1=[[x[0],x[1]] for x in training_data if x[2]==1]\n",
        "class2=[[x[0],x[1]] for x in training_data if x[2]==2]\n",
        "class1 = np.array(class1)\n",
        "class2 = np.array(class2)\n"
      ],
      "execution_count": 14,
      "outputs": []
    },
    {
      "cell_type": "markdown",
      "metadata": {
        "id": "KQ0y12ob_Ooj"
      },
      "source": [
        "***plot the points with different colored***"
      ]
    },
    {
      "cell_type": "code",
      "metadata": {
        "colab": {
          "base_uri": "https://localhost:8080/",
          "height": 320
        },
        "id": "te2Xoe4o_NSr",
        "outputId": "8ee0befe-ff78-4268-d118-ef716da090da"
      },
      "source": [
        "fig, ax = plt.subplots()\n",
        "fig.set_figheight(5)\n",
        "fig.set_figwidth(10)\n",
        "ax.scatter(class1[:,0],class1[:,1],marker='o',color='k',label='Train Class 1')\n",
        "ax.scatter(class2[:,0],class2[:,1],marker='*',color='r',label='Train Class 2')\n",
        "legend = ax.legend(loc='upper left', shadow=False, fontsize='small',labelspacing=0.5)\n",
        "legend.get_frame().set_facecolor('None')\n",
        "plt.show()"
      ],
      "execution_count": 15,
      "outputs": [
        {
          "output_type": "display_data",
          "data": {
            "image/png": "[encoded data removed]",
            "text/plain": [
              "<Figure size 720x360 with 1 Axes>"
            ]
          },
          "metadata": {
            "needs_background": "light"
          }
        }
      ]
    },
    {
      "cell_type": "markdown",
      "metadata": {
        "id": "0HTCgHUkAGfK"
      },
      "source": [
        "Read the Test_knn file"
      ]
    },
    {
      "cell_type": "code",
      "metadata": {
        "id": "oPYs5XR9omnG"
      },
      "source": [
        "testing_data = pd.read_csv('/content/drive/MyDrive/pattern lab/test_knn.txt', sep=\",\",header=None)\n",
        "testing_data=testing_data.to_numpy()"
      ],
      "execution_count": 17,
      "outputs": []
    },
    {
      "cell_type": "markdown",
      "metadata": {
        "id": "j9t8RPrLBAd7"
      },
      "source": [
        "***Distance calculate***"
      ]
    },
    {
      "cell_type": "code",
      "metadata": {
        "colab": {
          "base_uri": "https://localhost:8080/"
        },
        "id": "-vJrU89souUo",
        "outputId": "9944a91c-d1cb-499b-9edf-d12b80e80a82"
      },
      "source": [
        "distances = []\n",
        "prediction_list = []\n",
        "final_dis = []\n",
        "k = int(input())  #value of K will be taken from user.\n",
        "for i in testing_data:\n",
        "    predicted = 5\n",
        "    count1 = 0\n",
        "    count2 = 0\n",
        "    for j in training_data:\n",
        "        dis = math.sqrt(((i[0] - j[0]) **2) + ((i[1] - j[1]) **2)) #Distance calculate\n",
        "        distances.append([dis,j[2]])\n",
        "    distances.sort(key = lambda x: x[0])\n",
        "    for u in distances[:k]:\n",
        "        if(u[1] == 1):\n",
        "            count1 = count1 + 1\n",
        "        else:\n",
        "            count2 = count2 + 1\n",
        "    if(count1 > count2):\n",
        "        predicted = 1\n",
        "    else:\n",
        "        predicted = 2\n",
        "    \n",
        "    distances.insert(k,[i[0],i[1]])\n",
        "    print(distances[:k])\n",
        "    final_dis.append(distances[:k+1])\n",
        "    \n",
        "    prediction_list.append([i[0],i[1],predicted])\n",
        "    distances = []\n",
        "\n",
        "prediction_list"
      ],
      "execution_count": 18,
      "outputs": [
        {
          "output_type": "stream",
          "name": "stdout",
          "text": [
            "7\n",
            "[[3.0, 1], [3.0, 2], [3.1622776601683795, 1], [3.1622776601683795, 2], [3.605551275463989, 2], [4.0, 1], [4.0, 2]]\n",
            "[[0.0, 1], [1.0, 1], [1.0, 1], [1.4142135623730951, 1], [2.0, 1], [3.0, 1], [3.1622776601683795, 1]]\n",
            "[[0.0, 2], [1.0, 2], [1.0, 2], [1.4142135623730951, 2], [1.4142135623730951, 2], [2.0, 2], [2.23606797749979, 1]]\n",
            "[[4.123105625617661, 1], [4.123105625617661, 2], [4.123105625617661, 2], [4.47213595499958, 1], [4.47213595499958, 2], [5.0, 2], [5.0990195135927845, 1]]\n",
            "[[1.0, 2], [1.4142135623730951, 2], [2.0, 2], [2.23606797749979, 2], [2.23606797749979, 2], [2.23606797749979, 2], [3.0, 2]]\n",
            "[[1.4142135623730951, 2], [2.0, 2], [2.0, 2], [2.23606797749979, 2], [2.8284271247461903, 2], [3.1622776601683795, 2], [3.605551275463989, 2]]\n",
            "[[2.23606797749979, 1], [2.8284271247461903, 1], [3.1622776601683795, 1], [3.605551275463989, 1], [4.0, 2], [4.123105625617661, 2], [4.242640687119285, 1]]\n",
            "[[1.4142135623730951, 1], [2.23606797749979, 1], [2.23606797749979, 1], [3.1622776601683795, 1], [3.605551275463989, 1], [4.0, 2], [4.123105625617661, 1]]\n",
            "[[1.0, 1], [1.4142135623730951, 1], [2.0, 1], [2.23606797749979, 1], [2.8284271247461903, 1], [3.1622776601683795, 1], [3.605551275463989, 1]]\n"
          ]
        },
        {
          "output_type": "execute_result",
          "data": {
            "text/plain": [
              "[[3, 7, 2],\n",
              " [7, 7, 1],\n",
              " [4, 3, 2],\n",
              " [2, 8, 2],\n",
              " [3, 5, 2],\n",
              " [1, 2, 2],\n",
              " [4, 8, 1],\n",
              " [8, 3, 1],\n",
              " [8, 4, 1]]"
            ]
          },
          "metadata": {},
          "execution_count": 18
        }
      ]
    },
    {
      "cell_type": "markdown",
      "metadata": {
        "id": "3-0y7Zs9AbyT"
      },
      "source": [
        "***## Classify the test points with different colored markers according to the predicted class label.***\n"
      ]
    },
    {
      "cell_type": "code",
      "metadata": {
        "colab": {
          "base_uri": "https://localhost:8080/",
          "height": 320
        },
        "id": "t-RFzLYGovRo",
        "outputId": "b7482553-4e62-42c0-9e5c-beba7e97f7d1"
      },
      "source": [
        "class1=[[x[0],x[1]] for x in prediction_list if x[2]==1]\n",
        "class2=[[x[0],x[1]] for x in prediction_list if x[2]==2]\n",
        "class1 = np.array(class1)\n",
        "class2 = np.array(class2)\n",
        "\n",
        "f, ax = plt.subplots()\n",
        "f.set_figheight(5)\n",
        "f.set_figwidth(10)\n",
        "ax.scatter(class1[:,0],class1[:,1],marker='o',color='k',label='Test Class 1')\n",
        "ax.scatter(class2[:,0],class2[:,1],marker='*',color='r',label='Test Class 2')\n",
        "legend = ax.legend(loc='upper left', shadow=False, fontsize='small',labelspacing=0.5)\n",
        "legend.get_frame().set_facecolor('None')\n",
        "plt.show()"
      ],
      "execution_count": 19,
      "outputs": [
        {
          "output_type": "display_data",
          "data": {
            "image/png": "[encoded data removed]",
            "text/plain": [
              "<Figure size 720x360 with 1 Axes>"
            ]
          },
          "metadata": {
            "needs_background": "light"
          }
        }
      ]
    },
    {
      "cell_type": "markdown",
      "metadata": {
        "id": "1_0fP-HcBwcy"
      },
      "source": [
        "***Print the top K distances and predicted class ***\n"
      ]
    },
    {
      "cell_type": "code",
      "metadata": {
        "colab": {
          "base_uri": "https://localhost:8080/"
        },
        "id": "gvcepu4HoyZk",
        "outputId": "e4398d02-42f0-4331-9a49-280f2e70b857"
      },
      "source": [
        "prediction = open('/content/drive/MyDrive/pattern lab/prediction.txt','w')\n",
        "for j in (final_dis):\n",
        "    predicted = ''\n",
        "    count1 = 0\n",
        "    count2 = 0\n",
        "    print(j[len(j)-1])\n",
        "    stest = str(j[len(j)-1])+'\\n'\n",
        "    prediction.write(stest)\n",
        "    n =1\n",
        "    for u in j[:-1]:\n",
        "        print('Distance calculate of closest point ',n,':',u[0],'\\tClass',u[1],)                               #Print the top K distances\n",
        "        sdis = 'Distance '+ str(n)+ ':'+ str( u[0] ) +'\\tClass \\n'+str(u[1])+'\\n'\n",
        "        prediction.write(sdis)\n",
        "        if(u[1] == 1):\n",
        "            count1 = count1 + 1\n",
        "        else:\n",
        "            count2 = count2 + 1\n",
        "        n+=1\n",
        "    if(count1 > count2):\n",
        "        predicted = 'predicted Class 1'\n",
        "    else:\n",
        "        predicted = 'predicted Class 2'\n",
        "    print('Predicted Class: ',predicted,'\\n\\n')                                     ##Print predicted class\n",
        "    spredict = 'Predicted Class: '+str(predicted)+'\\n'\n",
        "    prediction.write(spredict)\n",
        "prediction.close()"
      ],
      "execution_count": 29,
      "outputs": [
        {
          "output_type": "stream",
          "name": "stdout",
          "text": [
            "[3, 7]\n",
            "Distance calculate of closest point  1 : 3.0 \tClass 1\n",
            "Distance calculate of closest point  2 : 3.0 \tClass 2\n",
            "Distance calculate of closest point  3 : 3.1622776601683795 \tClass 1\n",
            "Distance calculate of closest point  4 : 3.1622776601683795 \tClass 2\n",
            "Distance calculate of closest point  5 : 3.605551275463989 \tClass 2\n",
            "Distance calculate of closest point  6 : 4.0 \tClass 1\n",
            "Distance calculate of closest point  7 : 4.0 \tClass 2\n",
            "Predicted Class:  predicted Class 2 \n",
            "\n",
            "\n",
            "[7, 7]\n",
            "Distance calculate of closest point  1 : 0.0 \tClass 1\n",
            "Distance calculate of closest point  2 : 1.0 \tClass 1\n",
            "Distance calculate of closest point  3 : 1.0 \tClass 1\n",
            "Distance calculate of closest point  4 : 1.4142135623730951 \tClass 1\n",
            "Distance calculate of closest point  5 : 2.0 \tClass 1\n",
            "Distance calculate of closest point  6 : 3.0 \tClass 1\n",
            "Distance calculate of closest point  7 : 3.1622776601683795 \tClass 1\n",
            "Predicted Class:  predicted Class 1 \n",
            "\n",
            "\n",
            "[4, 3]\n",
            "Distance calculate of closest point  1 : 0.0 \tClass 2\n",
            "Distance calculate of closest point  2 : 1.0 \tClass 2\n",
            "Distance calculate of closest point  3 : 1.0 \tClass 2\n",
            "Distance calculate of closest point  4 : 1.4142135623730951 \tClass 2\n",
            "Distance calculate of closest point  5 : 1.4142135623730951 \tClass 2\n",
            "Distance calculate of closest point  6 : 2.0 \tClass 2\n",
            "Distance calculate of closest point  7 : 2.23606797749979 \tClass 1\n",
            "Predicted Class:  predicted Class 2 \n",
            "\n",
            "\n",
            "[2, 8]\n",
            "Distance calculate of closest point  1 : 4.123105625617661 \tClass 1\n",
            "Distance calculate of closest point  2 : 4.123105625617661 \tClass 2\n",
            "Distance calculate of closest point  3 : 4.123105625617661 \tClass 2\n",
            "Distance calculate of closest point  4 : 4.47213595499958 \tClass 1\n",
            "Distance calculate of closest point  5 : 4.47213595499958 \tClass 2\n",
            "Distance calculate of closest point  6 : 5.0 \tClass 2\n",
            "Distance calculate of closest point  7 : 5.0990195135927845 \tClass 1\n",
            "Predicted Class:  predicted Class 2 \n",
            "\n",
            "\n",
            "[3, 5]\n",
            "Distance calculate of closest point  1 : 1.0 \tClass 2\n",
            "Distance calculate of closest point  2 : 1.4142135623730951 \tClass 2\n",
            "Distance calculate of closest point  3 : 2.0 \tClass 2\n",
            "Distance calculate of closest point  4 : 2.23606797749979 \tClass 2\n",
            "Distance calculate of closest point  5 : 2.23606797749979 \tClass 2\n",
            "Distance calculate of closest point  6 : 2.23606797749979 \tClass 2\n",
            "Distance calculate of closest point  7 : 3.0 \tClass 2\n",
            "Predicted Class:  predicted Class 2 \n",
            "\n",
            "\n",
            "[1, 2]\n",
            "Distance calculate of closest point  1 : 1.4142135623730951 \tClass 2\n",
            "Distance calculate of closest point  2 : 2.0 \tClass 2\n",
            "Distance calculate of closest point  3 : 2.0 \tClass 2\n",
            "Distance calculate of closest point  4 : 2.23606797749979 \tClass 2\n",
            "Distance calculate of closest point  5 : 2.8284271247461903 \tClass 2\n",
            "Distance calculate of closest point  6 : 3.1622776601683795 \tClass 2\n",
            "Distance calculate of closest point  7 : 3.605551275463989 \tClass 2\n",
            "Predicted Class:  predicted Class 2 \n",
            "\n",
            "\n",
            "[4, 8]\n",
            "Distance calculate of closest point  1 : 2.23606797749979 \tClass 1\n",
            "Distance calculate of closest point  2 : 2.8284271247461903 \tClass 1\n",
            "Distance calculate of closest point  3 : 3.1622776601683795 \tClass 1\n",
            "Distance calculate of closest point  4 : 3.605551275463989 \tClass 1\n",
            "Distance calculate of closest point  5 : 4.0 \tClass 2\n",
            "Distance calculate of closest point  6 : 4.123105625617661 \tClass 2\n",
            "Distance calculate of closest point  7 : 4.242640687119285 \tClass 1\n",
            "Predicted Class:  predicted Class 1 \n",
            "\n",
            "\n",
            "[8, 3]\n",
            "Distance calculate of closest point  1 : 1.4142135623730951 \tClass 1\n",
            "Distance calculate of closest point  2 : 2.23606797749979 \tClass 1\n",
            "Distance calculate of closest point  3 : 2.23606797749979 \tClass 1\n",
            "Distance calculate of closest point  4 : 3.1622776601683795 \tClass 1\n",
            "Distance calculate of closest point  5 : 3.605551275463989 \tClass 1\n",
            "Distance calculate of closest point  6 : 4.0 \tClass 2\n",
            "Distance calculate of closest point  7 : 4.123105625617661 \tClass 1\n",
            "Predicted Class:  predicted Class 1 \n",
            "\n",
            "\n",
            "[8, 4]\n",
            "Distance calculate of closest point  1 : 1.0 \tClass 1\n",
            "Distance calculate of closest point  2 : 1.4142135623730951 \tClass 1\n",
            "Distance calculate of closest point  3 : 2.0 \tClass 1\n",
            "Distance calculate of closest point  4 : 2.23606797749979 \tClass 1\n",
            "Distance calculate of closest point  5 : 2.8284271247461903 \tClass 1\n",
            "Distance calculate of closest point  6 : 3.1622776601683795 \tClass 1\n",
            "Distance calculate of closest point  7 : 3.605551275463989 \tClass 1\n",
            "Predicted Class:  predicted Class 1 \n",
            "\n",
            "\n"
          ]
        }
      ]
    },
    {
      "cell_type": "code",
      "metadata": {
        "id": "tWsU4iI6o1Y9"
      },
      "source": [
        ""
      ],
      "execution_count": null,
      "outputs": []
    }
  ]
}