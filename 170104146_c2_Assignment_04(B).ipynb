{
  "nbformat": 4,
  "nbformat_minor": 0,
  "metadata": {
    "colab": {
      "name": "170104146_c2_Assignment_04(B).ipynb",
      "provenance": [],
      "collapsed_sections": []
    },
    "kernelspec": {
      "name": "python3",
      "display_name": "Python 3"
    },
    "language_info": {
      "name": "python"
    }
  },
  "cells": [
    {
      "cell_type": "markdown",
      "metadata": {
        "id": "QMCqwZ-q-U6m"
      },
      "source": [
        "Name: saiful islam  Id:170104146"
      ]
    },
    {
      "cell_type": "markdown",
      "metadata": {
        "id": "_27-4pUB-cZT"
      },
      "source": [
        "***Import Drive ***"
      ]
    },
    {
      "cell_type": "code",
      "metadata": {
        "colab": {
          "base_uri": "https://localhost:8080/"
        },
        "id": "30KQVHWY93Dl",
        "outputId": "f8aaaff7-8475-44ea-e5b1-cbe9e493041b"
      },
      "source": [
        "from google.colab import drive\n",
        "drive.mount('/content/drive')"
      ],
      "execution_count": 1,
      "outputs": [
        {
          "output_type": "stream",
          "name": "stdout",
          "text": [
            "Mounted at /content/drive\n"
          ]
        }
      ]
    },
    {
      "cell_type": "markdown",
      "metadata": {
        "id": "Orf_2_HV-foU"
      },
      "source": [
        "***import library***"
      ]
    },
    {
      "cell_type": "code",
      "metadata": {
        "id": "wgPU5qUsoQpH"
      },
      "source": [
        "import numpy as np\n",
        "import pandas as pd\n",
        "import matplotlib.pyplot as plt\n",
        "import math"
      ],
      "execution_count": 2,
      "outputs": []
    },
    {
      "cell_type": "markdown",
      "metadata": {
        "id": "7w5358FP-3Ps"
      },
      "source": [
        "***Read the Data_k_mean  file***"
      ]
    },
    {
      "cell_type": "code",
      "metadata": {
        "colab": {
          "base_uri": "https://localhost:8080/"
        },
        "id": "PWUx-gJNofOT",
        "outputId": "fdb75201-a791-46a0-8ed7-1d07dde98909"
      },
      "source": [
        "\n",
        "df = pd.read_csv('/content/drive/MyDrive/pattern lab/data_k_mean.txt', sep = ' ', header = None)\n",
        "df\n",
        "data = df.to_numpy()\n",
        "print(data)\n"
      ],
      "execution_count": 30,
      "outputs": [
        {
          "output_type": "stream",
          "name": "stdout",
          "text": [
            "[[-7.87157 -4.86573]\n",
            " [-4.76661 -6.87944]\n",
            " [-6.67986 -5.8308 ]\n",
            " ...\n",
            " [ 6.91832 -0.32132]\n",
            " [-8.23828 -4.00405]\n",
            " [-5.75112 -5.99531]]\n"
          ]
        }
      ]
    },
    {
      "cell_type": "markdown",
      "metadata": {
        "id": "qHS2WYQ2F9zM"
      },
      "source": [
        "***Plotting all data points***"
      ]
    },
    {
      "cell_type": "code",
      "metadata": {
        "id": "tWsU4iI6o1Y9",
        "colab": {
          "base_uri": "https://localhost:8080/",
          "height": 265
        },
        "outputId": "c414148f-a8fa-4977-cb17-c336ef49fd16"
      },
      "source": [
        "import matplotlib.pyplot as plt\n",
        "plt.scatter(df[0], df[1], c = 'red', marker = 'd')\n",
        "plt.show()"
      ],
      "execution_count": 40,
      "outputs": [
        {
          "output_type": "display_data",
          "data": {
            "image/png": "[encoded data removed]",
            "text/plain": [
              "<Figure size 432x288 with 1 Axes>"
            ]
          },
          "metadata": {
            "needs_background": "light"
          }
        }
      ]
    },
    {
      "cell_type": "markdown",
      "metadata": {
        "id": "O6KfhbTrGXZx"
      },
      "source": [
        "***Taking the input k from user***"
      ]
    },
    {
      "cell_type": "code",
      "metadata": {
        "colab": {
          "base_uri": "https://localhost:8080/"
        },
        "id": "I22LgFXNGTik",
        "outputId": "1cd8bf9e-5ff1-4b3c-9333-9251b99125ab"
      },
      "source": [
        "k = int(input(\"Enter the value of k : \"))"
      ],
      "execution_count": 33,
      "outputs": [
        {
          "name": "stdout",
          "output_type": "stream",
          "text": [
            "Enter the value of k : 2\n"
          ]
        }
      ]
    },
    {
      "cell_type": "markdown",
      "metadata": {
        "id": "biMOJxCJI5aY"
      },
      "source": [
        "***Random centroids for first iteration***"
      ]
    },
    {
      "cell_type": "code",
      "metadata": {
        "colab": {
          "base_uri": "https://localhost:8080/"
        },
        "id": "m1tz2a2aGenB",
        "outputId": "76fd5f6d-76d2-4dcf-bbc7-5e1ad240cdeb"
      },
      "source": [
        "import numpy as np\n",
        "np.random.seed(seed=10)\n",
        "random_numbers = np.random.randint(low=0, high=len(data), size=(k,))\n",
        "centroids = [data[random_numbers[i]] for i in range(k)]\n",
        "print(centroids)"
      ],
      "execution_count": 34,
      "outputs": [
        {
          "output_type": "stream",
          "name": "stdout",
          "text": [
            "[array([-6.41775, -6.87142]), array([8.28839, 1.25517])]\n"
          ]
        }
      ]
    },
    {
      "cell_type": "markdown",
      "metadata": {
        "id": "p7GYi4zLJC2Q"
      },
      "source": [
        "***Calculating the Euclidean Distance***"
      ]
    },
    {
      "cell_type": "code",
      "metadata": {
        "id": "VhZlTkBeI9eo"
      },
      "source": [
        "distance = [] #to store the distance from point to classes\n",
        "index_clusters = [-1 for i in range(len(data))] #to store class corresponding to index\n",
        "count = 0 #to count the iteration number\n",
        "clusters = {} #to store class numbers as keys and data points as values\n",
        "# max 200 iterations\n",
        "for x in range(500):\n",
        "    count = x\n",
        "    # flag to keep track whether change occurs or not\n",
        "    flag = 0 \n",
        "    for y in range(k):\n",
        "        clusters[y] = []\n",
        "    # iterate through each data points\n",
        "    for i in range(len(data)):\n",
        "        distance = []\n",
        "        \n",
        "        for j in range(k):\n",
        "            dist = np.sqrt(pow(abs((data[i][0] - centroids[j][0])), 2) + pow(abs((data[i][1] - centroids[j][1])), 2))\n",
        "            distance.append(dist)\n",
        "            #print(distance)\n",
        "        index = distance.index(min(distance))\n",
        "        #print(index)\n",
        "        # check whether the change occurs or not\n",
        "        if index_clusters[i] != index:\n",
        "            flag = 1\n",
        "            index_clusters[i] = index\n",
        "        clusters[index].append(data[i])\n",
        "    # if change occurs\n",
        "    if flag == 0:\n",
        "        break\n",
        "    # calculating new centroids\n",
        "    centroids = [np.mean(np.asarray(clusters[z]), axis=0) for z in range(k)]"
      ],
      "execution_count": 35,
      "outputs": []
    },
    {
      "cell_type": "markdown",
      "metadata": {
        "id": "CCGXLtOPJTgP"
      },
      "source": [
        "***Variables to plot class 1 and class 2 data points***"
      ]
    },
    {
      "cell_type": "code",
      "metadata": {
        "id": "3ikB_OHHJQ6h"
      },
      "source": [
        "a1 = np.asarray(clusters[0])[:, 0]\n",
        "b1 = np.asarray(clusters[0])[:, 1]\n",
        "\n",
        "\n",
        "a2 = np.asarray(clusters[1])[:, 0]\n",
        "b2 = np.asarray(clusters[1])[:, 1]"
      ],
      "execution_count": 38,
      "outputs": []
    },
    {
      "cell_type": "markdown",
      "metadata": {
        "id": "GrpntmbtJZ7J"
      },
      "source": [
        "***plotting classified data points of two classes with different colored marker***"
      ]
    },
    {
      "cell_type": "code",
      "metadata": {
        "colab": {
          "base_uri": "https://localhost:8080/",
          "height": 265
        },
        "id": "S6sev3ZlJYuR",
        "outputId": "db6b3aac-e533-4c0a-ffe3-ce82e3a7653a"
      },
      "source": [
        "\n",
        "plt.scatter(a1, b1, c = 'red', marker = '+', label = 'Class 1')\n",
        "plt.scatter(a2, b2, c = 'green', marker = 'd', label = 'Class 2')\n",
        "plt.legend(loc = 'best')\n",
        "plt.show()"
      ],
      "execution_count": 41,
      "outputs": [
        {
          "output_type": "display_data",
          "data": {
            "image/png": "[encoded data removed]",
            "text/plain": [
              "<Figure size 432x288 with 1 Axes>"
            ]
          },
          "metadata": {
            "needs_background": "light"
          }
        }
      ]
    }
  ]
}