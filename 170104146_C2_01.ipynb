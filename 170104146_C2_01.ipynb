{
  "nbformat": 4,
  "nbformat_minor": 0,
  "metadata": {
    "colab": {
      "name": "Untitled13.ipynb",
      "provenance": [],
      "collapsed_sections": []
    },
    "kernelspec": {
      "name": "python3",
      "display_name": "Python 3"
    },
    "language_info": {
      "name": "python"
    }
  },
  "cells": [
    {
      "cell_type": "markdown",
      "metadata": {
        "id": "lQk2H7fn2pUb"
      },
      "source": [
        "# Name:saiful islam ID:170104146 Group:c2"
      ]
    },
    {
      "cell_type": "code",
      "metadata": {
        "colab": {
          "base_uri": "https://localhost:8080/"
        },
        "id": "iEW2a3Fm21bV",
        "outputId": "52b0e8bf-c283-4ade-c9ba-6f045b9e7f1d"
      },
      "source": [
        "from google.colab import drive\n",
        "drive.mount('/content/drive')"
      ],
      "execution_count": 2,
      "outputs": [
        {
          "output_type": "stream",
          "text": [
            "Mounted at /content/drive\n"
          ],
          "name": "stdout"
        }
      ]
    },
    {
      "cell_type": "markdown",
      "metadata": {
        "id": "XoaAHMcy3IZ3"
      },
      "source": [
        "# 1.import library"
      ]
    },
    {
      "cell_type": "code",
      "metadata": {
        "id": "nE2-fPnb3Om8"
      },
      "source": [
        "import numpy as np\n",
        "import pandas as pd\n",
        "import matplotlib.pyplot as matplot"
      ],
      "execution_count": 3,
      "outputs": []
    },
    {
      "cell_type": "markdown",
      "metadata": {
        "id": "hDinbzMv3bF4"
      },
      "source": [
        "# 2.Read  Train file"
      ]
    },
    {
      "cell_type": "code",
      "metadata": {
        "id": "nRguRsLZ3fxX"
      },
      "source": [
        "training_Data = np.loadtxt('/content/drive/MyDrive/pattern lab/train.txt',delimiter = ' ')"
      ],
      "execution_count": 4,
      "outputs": []
    },
    {
      "cell_type": "markdown",
      "metadata": {
        "id": "SYfKzBEtC1wE"
      },
      "source": [
        "# 3.Read Test file"
      ]
    },
    {
      "cell_type": "code",
      "metadata": {
        "id": "W2xjtgQX-bQ0"
      },
      "source": [
        "testing_Data = np.loadtxt('/content/drive/MyDrive/pattern lab/test.txt',delimiter = ' ')"
      ],
      "execution_count": 5,
      "outputs": []
    },
    {
      "cell_type": "markdown",
      "metadata": {
        "id": "x4y1PJvlCuNN"
      },
      "source": [
        "# 4.Separate Training data in class A and class B"
      ]
    },
    {
      "cell_type": "code",
      "metadata": {
        "id": "e3-871Xp-m2c"
      },
      "source": [
        "class_A =[]\n",
        "for a in training_Data:\n",
        "    if a[2] == 1:\n",
        "        class_A.append([a[0],a[1]])"
      ],
      "execution_count": 20,
      "outputs": []
    },
    {
      "cell_type": "code",
      "metadata": {
        "id": "Kj5FExq0-qAM"
      },
      "source": [
        "class_B =[]\n",
        "for a in training_Data:\n",
        "    if a[2] == 2:\n",
        "        class_B.append([a[0],a[1]])"
      ],
      "execution_count": 21,
      "outputs": []
    },
    {
      "cell_type": "markdown",
      "metadata": {
        "id": "4sWkB7jPC-Dz"
      },
      "source": [
        "# 5.separate test values and their class"
      ]
    },
    {
      "cell_type": "code",
      "metadata": {
        "id": "_fcWdPZM-0f9"
      },
      "source": [
        "test_Values =[]\n",
        "test_Class =[]\n",
        "for a in testing_Data:\n",
        "    test_Values.append([a[0],a[1]])\n",
        "    test_Class.append(a[2])"
      ],
      "execution_count": 22,
      "outputs": []
    },
    {
      "cell_type": "markdown",
      "metadata": {
        "id": "O41Bwr6SDEBb"
      },
      "source": [
        "# 6.convert the list to np array"
      ]
    },
    {
      "cell_type": "code",
      "metadata": {
        "id": "fkLY3Zd5-tgM"
      },
      "source": [
        "class_A = np.array(class_A)\n",
        "class_B = np.array(class_B)\n",
        "test_Values = np.array(test_Values)\n",
        "test_Class = np.array(test_Class)"
      ],
      "execution_count": 23,
      "outputs": []
    },
    {
      "cell_type": "markdown",
      "metadata": {
        "id": "L-t_BAwFDN2E"
      },
      "source": [
        "#7.Ploting Training Data"
      ]
    },
    {
      "cell_type": "code",
      "metadata": {
        "colab": {
          "base_uri": "https://localhost:8080/",
          "height": 336
        },
        "id": "jH_xAcSQ-4Wk",
        "outputId": "7b121ac8-627c-4d91-f8db-7e9725b15281"
      },
      "source": [
        "fig,ax = matplot.subplots()\n",
        "ax.set_title('Ploting Training Data')\n",
        "fig.set_figheight(5)\n",
        "fig.set_figwidth(10)\n",
        "ax.scatter(class_A[:,0],class_A[:,1],marker='*',color='k',label='Train Class 1')\n",
        "ax.scatter(class_B[:,0],class_B[:,1],marker='o',color='r',label='Train Class 2')\n",
        "legend = ax.legend(loc='upper left', shadow=False, fontsize='small',labelspacing=1)\n",
        "legend.get_frame().set_facecolor('None')\n",
        "matplot.show()"
      ],
      "execution_count": 24,
      "outputs": [
        {
          "output_type": "display_data",
          "data": {
            "image/png": "[encoded data removed]",
            "text/plain": [
              "<Figure size 720x360 with 1 Axes>"
            ]
          },
          "metadata": {
            "tags": [],
            "needs_background": "light"
          }
        }
      ]
    },
    {
      "cell_type": "code",
      "metadata": {
        "id": "Rjuv1VIJ-8VU"
      },
      "source": [
        "meanClassA = np.mean(class_A,axis = 0)\n",
        "meanClassB = np.mean(class_B,axis = 0)"
      ],
      "execution_count": 25,
      "outputs": []
    },
    {
      "cell_type": "markdown",
      "metadata": {
        "id": "_QONaCSCDVv7"
      },
      "source": [
        "# 8.mean of class A and class B"
      ]
    },
    {
      "cell_type": "code",
      "metadata": {
        "colab": {
          "base_uri": "https://localhost:8080/"
        },
        "id": "HTp8DzUWANcL",
        "outputId": "4dc4c835-8f4b-4df2-a6ef-9f42574946d4"
      },
      "source": [
        "print(meanClassA)\n",
        "print(meanClassB)"
      ],
      "execution_count": 26,
      "outputs": [
        {
          "output_type": "stream",
          "text": [
            "[1.5 0.5]\n",
            "[-1.5  2. ]\n"
          ],
          "name": "stdout"
        }
      ]
    },
    {
      "cell_type": "code",
      "metadata": {
        "id": "ijZg0ImTAWnb"
      },
      "source": [
        "predictionClass_A = [0]*len(test_Values)\n",
        "predictionClass_B = [0]*len(test_Values)\n",
        "predictionClass = [0]*len(test_Values)"
      ],
      "execution_count": 27,
      "outputs": []
    },
    {
      "cell_type": "code",
      "metadata": {
        "id": "xDK2Gcq1DpZ7"
      },
      "source": [
        "print(test_Values)\n",
        "print(predictionClass_A)"
      ],
      "execution_count": null,
      "outputs": []
    },
    {
      "cell_type": "markdown",
      "metadata": {
        "id": "6Sr67o_IEZf8"
      },
      "source": [
        "# 9.create a temporary numpy array for store"
      ]
    },
    {
      "cell_type": "code",
      "metadata": {
        "id": "NoGbR_gEAi4P"
      },
      "source": [
        "tempValue = np.zeros((len(test_Values),3))"
      ],
      "execution_count": 29,
      "outputs": []
    },
    {
      "cell_type": "markdown",
      "metadata": {
        "id": "zzjlulefEsqD"
      },
      "source": [
        "# 10.predict class\n",
        "\n",
        "\n",
        "\n"
      ]
    },
    {
      "cell_type": "code",
      "metadata": {
        "id": "gYYU0PAxAwur"
      },
      "source": [
        "for i in range(len(test_Values)):\n",
        "    predictionClass_A[i] = np.dot(np.transpose(meanClassA),test_Values[i]-.5*np.dot(np.transpose(meanClassA),meanClassA))\n",
        "    predictionClass_B[i] = np.dot(np.transpose(meanClassB),test_Values[i]-.5*np.dot(np.transpose(meanClassB),meanClassB))\n",
        "    if(predictionClass_A[i]>predictionClass_B[i]):\n",
        "        tempValue[i][0] = test_Values[i][0]\n",
        "        tempValue[i][1] = test_Values[i][1]\n",
        "        tempValue[i][2] = 1\n",
        "        predictionClass[i] = 1\n",
        "    else:\n",
        "        tempValue[i][0] = test_Values[i][0]\n",
        "        tempValue[i][1] = test_Values[i][1]\n",
        "        tempValue[i][2] = 2\n",
        "        predictionClass[i] = 2"
      ],
      "execution_count": 31,
      "outputs": []
    },
    {
      "cell_type": "markdown",
      "metadata": {
        "id": "CFDn5BYxE4q7"
      },
      "source": [
        "# 11. IF tempValue 1 then its in class A"
      ]
    },
    {
      "cell_type": "code",
      "metadata": {
        "id": "su1rlatMBY-3"
      },
      "source": [
        "class_test_A =[]\n",
        "for a in tempValue:\n",
        "    if a[2] == 1:\n",
        "        class_test_A.append([a[0],a[1]])"
      ],
      "execution_count": 32,
      "outputs": []
    },
    {
      "cell_type": "markdown",
      "metadata": {
        "id": "_-diAmEOFAdr"
      },
      "source": [
        "# 12. IF tempValue 1 then its in class B"
      ]
    },
    {
      "cell_type": "code",
      "metadata": {
        "id": "T3VZRInnBgB5"
      },
      "source": [
        "class_test_B =[]\n",
        "for a in tempValue:\n",
        "    if a[2] == 2:\n",
        "        class_test_B.append([a[0],a[1]])"
      ],
      "execution_count": 33,
      "outputs": []
    },
    {
      "cell_type": "markdown",
      "metadata": {
        "id": "pUBeJQm5FKZT"
      },
      "source": [
        "# 13.convert the list in numpy array"
      ]
    },
    {
      "cell_type": "code",
      "metadata": {
        "id": "JxZzaE4fBoPs"
      },
      "source": [
        "class_test_A =np.array(class_test_A)\n",
        "class_test_B = np.array(class_test_B)\n",
        "predictionClass = np.array(predictionClass)"
      ],
      "execution_count": 34,
      "outputs": []
    },
    {
      "cell_type": "markdown",
      "metadata": {
        "id": "h2eHi5AkFRWK"
      },
      "source": [
        "# 14.plotting the meanclass,predicted class and training class"
      ]
    },
    {
      "cell_type": "code",
      "metadata": {
        "colab": {
          "base_uri": "https://localhost:8080/",
          "height": 320
        },
        "id": "9fchUHxSB0Hv",
        "outputId": "cd3bbe43-b571-4521-f6e1-4e5a281b4f61"
      },
      "source": [
        "fig, ax = matplot.subplots()\n",
        "fig.set_figheight(5)\n",
        "fig.set_figwidth(10)\n",
        "\n",
        "ax.scatter(class_A[:,0],class_A[:,1],marker='o',color='r',label='Train Class 1')\n",
        "ax.scatter(class_B[:,0],class_B[:,1],marker='*',color='k',label='Train Class 2')\n",
        "ax.scatter(meanClassA[0],meanClassA[1],marker='v',color='r',label='Mean Class 1')\n",
        "ax.scatter(meanClassB[0],meanClassB[1],marker='H',color='k',label='Mean Class 2')\n",
        "ax.scatter(class_test_A[:,0],class_test_A[:,1],marker='s',color='r',label='Test Class 1')\n",
        "ax.scatter(class_test_B[:,0],class_test_B[:,1],marker='s',color='k',label='Test Class 2')\n",
        "legend = ax.legend(loc='upper left', shadow=False, fontsize='small',labelspacing=0.5)\n",
        "legend.get_frame().set_facecolor('None')\n",
        "matplot.show()"
      ],
      "execution_count": 35,
      "outputs": [
        {
          "output_type": "display_data",
          "data": {
            "image/png": "[encoded data removed]",
            "text/plain": [
              "<Figure size 720x360 with 1 Axes>"
            ]
          },
          "metadata": {
            "tags": [],
            "needs_background": "light"
          }
        }
      ]
    },
    {
      "cell_type": "code",
      "metadata": {
        "id": "WrZLz1HaCDP1"
      },
      "source": [
        "X=[0]*12\n",
        "Y=[0]*12\n",
        "c=0\n",
        "for x in range(-4,8,1):\n",
        "    j=-((meanClassA[0]-meanClassB[0])*x-.5*np.dot(np.transpose(meanClassA),meanClassA)+\n",
        "        .5*np.dot(np.transpose(meanClassB),meanClassB))/(meanClassA[1]-meanClassB[1])\n",
        "    X[c]=x\n",
        "    Y[c]=j\n",
        "    c+=1  "
      ],
      "execution_count": 36,
      "outputs": []
    },
    {
      "cell_type": "markdown",
      "metadata": {
        "id": "RJoBWgVPFYsD"
      },
      "source": [
        "#15.Ploting final output with decision Boundary "
      ]
    },
    {
      "cell_type": "code",
      "metadata": {
        "colab": {
          "base_uri": "https://localhost:8080/",
          "height": 320
        },
        "id": "sW3ZgiLuCJgk",
        "outputId": "a5c8efae-cddf-4234-f006-e227e41eceab"
      },
      "source": [
        "fig, ax = matplot.subplots()\n",
        "fig.set_figheight(5)\n",
        "fig.set_figwidth(10)\n",
        "ax.plot(X,Y,\"--\",label='Decision Boundary',color=\"g\")\n",
        "ax.scatter(class_A[:,0],class_A[:,1],marker='o',color='r',label='Train Class 1')\n",
        "ax.scatter(class_B[:,0],class_B[:,1],marker='*',color='k',label='Train Class 2')\n",
        "ax.scatter(meanClassA[0],meanClassA[1],marker='v',color='r',label='Mean Class 1')\n",
        "ax.scatter(meanClassB[0],meanClassB[1],marker='H',color='k',label='Mean Class 2')\n",
        "ax.scatter(class_test_A[:,0],class_test_A[:,1],marker='s',color='r',label='Test Class 1')\n",
        "ax.scatter(class_test_B[:,0],class_test_B[:,1],marker='s',color='k',label='Test Class 2')\n",
        "legend = ax.legend(loc='upper left', shadow=False, fontsize='small',labelspacing=0.5)\n",
        "legend.get_frame().set_facecolor('None')\n",
        "matplot.show()"
      ],
      "execution_count": 37,
      "outputs": [
        {
          "output_type": "display_data",
          "data": {
            "image/png": "[encoded data removed]",
            "text/plain": [
              "<Figure size 720x360 with 1 Axes>"
            ]
          },
          "metadata": {
            "tags": [],
            "needs_background": "light"
          }
        }
      ]
    },
    {
      "cell_type": "markdown",
      "metadata": {
        "id": "QXRS0zMBFmLD"
      },
      "source": [
        "# 16.Model accuracy"
      ]
    },
    {
      "cell_type": "code",
      "metadata": {
        "colab": {
          "base_uri": "https://localhost:8080/"
        },
        "id": "7tIm0MV0Caoj",
        "outputId": "dd0e2bd6-7c1a-41b0-e926-a55d1f0d6484"
      },
      "source": [
        "accuracy = 0\n",
        "for x,y in zip(test_Class,predictionClass):\n",
        "    if (x == y):\n",
        "        accuracy +=1\n",
        "accuracy = accuracy/len(test_Class)*100\n",
        "print('Accuracy = ', accuracy)"
      ],
      "execution_count": 39,
      "outputs": [
        {
          "output_type": "stream",
          "text": [
            "Accuracy =  85.71428571428571\n"
          ],
          "name": "stdout"
        }
      ]
    }
  ]
}